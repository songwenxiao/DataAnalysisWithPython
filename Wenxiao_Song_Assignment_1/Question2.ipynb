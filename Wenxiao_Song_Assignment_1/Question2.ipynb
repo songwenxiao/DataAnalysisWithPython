{
 "cells": [
  {
   "cell_type": "code",
   "execution_count": 1,
   "metadata": {
    "collapsed": false
   },
   "outputs": [
    {
     "name": "stdout",
     "output_type": "stream",
     "text": [
      "309\n",
      "5.61812297735\n",
      "5.0\n",
      "2\n"
     ]
    }
   ],
   "source": [
    "#Question2\n",
    "myfile = open('ques2.txt').read()\n",
    "\n",
    "count = len(myfile.split(' '))\n",
    "print(count)\n",
    "\n",
    "charCount = [];\n",
    "\n",
    "for word in myfile.split():\n",
    "\tcharCount.append(len(word))\n",
    "\n",
    "import numpy as np\n",
    "mean = np.mean(charCount)\n",
    "print(mean)\n",
    "\n",
    "median = np.median(charCount)\n",
    "print(median)\n",
    "\n",
    "from statistics import mode\n",
    "mode = mode(charCount)\n",
    "print(mode)\n"
   ]
  },
  {
   "cell_type": "code",
   "execution_count": null,
   "metadata": {
    "collapsed": true
   },
   "outputs": [],
   "source": []
  }
 ],
 "metadata": {
  "kernelspec": {
   "display_name": "Python [Root]",
   "language": "python",
   "name": "Python [Root]"
  },
  "language_info": {
   "codemirror_mode": {
    "name": "ipython",
    "version": 3
   },
   "file_extension": ".py",
   "mimetype": "text/x-python",
   "name": "python",
   "nbconvert_exporter": "python",
   "pygments_lexer": "ipython3",
   "version": "3.5.2"
  }
 },
 "nbformat": 4,
 "nbformat_minor": 0
}
