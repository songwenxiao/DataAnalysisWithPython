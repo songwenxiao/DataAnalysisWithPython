{
 "cells": [
  {
   "cell_type": "code",
   "execution_count": null,
   "metadata": {
    "collapsed": true
   },
   "outputs": [],
   "source": [
    "#Question4\n",
    "import os\n",
    "import json\n",
    "import random\n",
    "\n",
    "str1 = 'user not found'\n",
    "\n",
    "count = 0\n",
    "dic = {}\n",
    "\n",
    "for subdir, dirs, files in os.walk('jsons'):\n",
    "    for file in files:\n",
    "        filepath = subdir + os.sep + file\n",
    "        fpCount = 0\n",
    "        tpCount = 0\n",
    "        if filepath.endswith(\".json\"):\n",
    "            myfile = open(filepath)\n",
    "            data = json.load(myfile)\n",
    "            segments = data.get('retargetingSegments')\n",
    "            if type(segments) == list:\n",
    "                for subDic in segments:\n",
    "                    value = subDic.get('segmentUid')\n",
    "                    if value[0] == '1':\n",
    "                        tpCount += 1\n",
    "                    else:\n",
    "                        fpCount += 1\n",
    "        subCount = {'first': fpCount, ' third': tpCount}\n",
    "        dic.update({file.strip('.json'):subCount})\n",
    "\n",
    "for i in range(0, 5):\n",
    "    kj = random.choice(list(dic.keys()))\n",
    "    vj = dic[kj]\n",
    "    print(\"The \" + str(i) + \"random entry is {\" + str(kj) + \": \" + str(vj) + \"}\")\n",
    "\n"
   ]
  }
 ],
 "metadata": {
  "kernelspec": {
   "display_name": "Python [Root]",
   "language": "python",
   "name": "Python [Root]"
  },
  "language_info": {
   "codemirror_mode": {
    "name": "ipython",
    "version": 3
   },
   "file_extension": ".py",
   "mimetype": "text/x-python",
   "name": "python",
   "nbconvert_exporter": "python",
   "pygments_lexer": "ipython3",
   "version": "3.5.2"
  }
 },
 "nbformat": 4,
 "nbformat_minor": 0
}
