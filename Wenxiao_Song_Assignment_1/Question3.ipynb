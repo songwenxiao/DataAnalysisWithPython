{
 "cells": [
  {
   "cell_type": "code",
   "execution_count": 1,
   "metadata": {
    "collapsed": false
   },
   "outputs": [
    {
     "name": "stdout",
     "output_type": "stream",
     "text": [
      "There are 877files has User Not Found\n",
      "The 0random entry is {VPGqpAaM1BFYyf5: 1}\n",
      "The 1random entry is {Gbb0G9bZ1BM8Ci2: 0}\n",
      "The 2random entry is {WFgvm0ph1ATGxm5: 1}\n",
      "The 3random entry is {FvvwAEN11BAJxx5: 0}\n",
      "The 4random entry is {Zp1j3ZGn1AVxHA5: 1}\n"
     ]
    }
   ],
   "source": [
    "#Question3\n",
    "import os\n",
    "import json\n",
    "import random\n",
    "\n",
    "str1 = 'user not found'\n",
    "\n",
    "count = 0\n",
    "dic = {}\n",
    "\n",
    "for subdir, dirs, files in os.walk('jsons'):\n",
    "    for file in files:\n",
    "        filepath = subdir + os.sep + file\n",
    "        if filepath.endswith(\".json\"):\n",
    "            myfile = open(filepath)\n",
    "            data = json.load(myfile)\n",
    "            userName = data.get('name')\n",
    "            if type(userName) == str:\n",
    "            \tif userName.lower() == str1:\n",
    "            \t\tcount += 1\n",
    "            \t\tdic.update({file.strip('.json'):0})\n",
    "            else:\n",
    "            \tdic.update({file.strip('.json'):1})\n",
    "print(\"There are \" + str(count) + \"files has User Not Found\")\n",
    "\n",
    "for i in range(0, 5):\n",
    "\tkj = random.choice(list(dic.keys()))\n",
    "\tvj = dic[kj]\n",
    "\tprint(\"The \" + str(i) + \"random entry is {\" + str(kj) + \": \" + str(vj) + \"}\")\n",
    "\n",
    "\n"
   ]
  },
  {
   "cell_type": "code",
   "execution_count": null,
   "metadata": {
    "collapsed": true
   },
   "outputs": [],
   "source": []
  }
 ],
 "metadata": {
  "kernelspec": {
   "display_name": "Python [Root]",
   "language": "python",
   "name": "Python [Root]"
  },
  "language_info": {
   "codemirror_mode": {
    "name": "ipython",
    "version": 3
   },
   "file_extension": ".py",
   "mimetype": "text/x-python",
   "name": "python",
   "nbconvert_exporter": "python",
   "pygments_lexer": "ipython3",
   "version": "3.5.2"
  }
 },
 "nbformat": 4,
 "nbformat_minor": 0
}
