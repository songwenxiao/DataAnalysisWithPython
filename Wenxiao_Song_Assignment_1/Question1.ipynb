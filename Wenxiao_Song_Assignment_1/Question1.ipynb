{
 "cells": [
  {
   "cell_type": "code",
   "execution_count": 1,
   "metadata": {
    "collapsed": false
   },
   "outputs": [
    {
     "name": "stdout",
     "output_type": "stream",
     "text": [
      "252.0\n",
      "136.5\n",
      "252.0\n",
      "367.5\n"
     ]
    }
   ],
   "source": [
    "#Question1\n",
    "my_list = []\n",
    "x = 1\n",
    "while x < 500:\n",
    "    if x % 21 == 0:\n",
    "        my_list.append(x)\n",
    "    x += 1\n",
    "\n",
    "import numpy as np\n",
    "mean = np.mean(my_list)\n",
    "print(mean)\n",
    "\n",
    "twenty_five_quartile = np.percentile(my_list, 25)\n",
    "print(twenty_five_quartile)\n",
    "\n",
    "fifty_quartile = np.percentile(my_list, 50)\n",
    "print(fifty_quartile)\n",
    "\n",
    "seventy_five_quartile = np.percentile(my_list, 75)\n",
    "print(seventy_five_quartile)"
   ]
  },
  {
   "cell_type": "code",
   "execution_count": null,
   "metadata": {
    "collapsed": true
   },
   "outputs": [],
   "source": []
  }
 ],
 "metadata": {
  "anaconda-cloud": {},
  "kernelspec": {
   "display_name": "Python [Root]",
   "language": "python",
   "name": "Python [Root]"
  },
  "language_info": {
   "codemirror_mode": {
    "name": "ipython",
    "version": 3
   },
   "file_extension": ".py",
   "mimetype": "text/x-python",
   "name": "python",
   "nbconvert_exporter": "python",
   "pygments_lexer": "ipython3",
   "version": "3.5.2"
  }
 },
 "nbformat": 4,
 "nbformat_minor": 0
}
